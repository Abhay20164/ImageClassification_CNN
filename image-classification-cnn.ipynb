{
 "cells": [
  {
   "cell_type": "code",
   "execution_count": 1,
   "id": "422a4342",
   "metadata": {
    "execution": {
     "iopub.execute_input": "2024-01-02T15:29:01.409158Z",
     "iopub.status.busy": "2024-01-02T15:29:01.408764Z",
     "iopub.status.idle": "2024-01-02T15:29:15.837853Z",
     "shell.execute_reply": "2024-01-02T15:29:15.836879Z"
    },
    "papermill": {
     "duration": 14.443535,
     "end_time": "2024-01-02T15:29:15.840646",
     "exception": false,
     "start_time": "2024-01-02T15:29:01.397111",
     "status": "completed"
    },
    "tags": []
   },
   "outputs": [],
   "source": [
    "import tensorflow as tf"
   ]
  },
  {
   "cell_type": "code",
   "execution_count": 2,
   "id": "49fe7de4",
   "metadata": {
    "execution": {
     "iopub.execute_input": "2024-01-02T15:29:15.861933Z",
     "iopub.status.busy": "2024-01-02T15:29:15.861215Z",
     "iopub.status.idle": "2024-01-02T15:29:16.011704Z",
     "shell.execute_reply": "2024-01-02T15:29:16.010339Z"
    },
    "papermill": {
     "duration": 0.163889,
     "end_time": "2024-01-02T15:29:16.014299",
     "exception": false,
     "start_time": "2024-01-02T15:29:15.850410",
     "status": "completed"
    },
    "tags": []
   },
   "outputs": [],
   "source": [
    "from tensorflow.keras import datasets,layers,models\n",
    "import matplotlib.pyplot as plt\n",
    "import numpy as np"
   ]
  },
  {
   "cell_type": "code",
   "execution_count": 3,
   "id": "b39c09ea",
   "metadata": {
    "execution": {
     "iopub.execute_input": "2024-01-02T15:29:16.035364Z",
     "iopub.status.busy": "2024-01-02T15:29:16.034273Z",
     "iopub.status.idle": "2024-01-02T15:29:16.038781Z",
     "shell.execute_reply": "2024-01-02T15:29:16.037965Z"
    },
    "papermill": {
     "duration": 0.017158,
     "end_time": "2024-01-02T15:29:16.040944",
     "exception": false,
     "start_time": "2024-01-02T15:29:16.023786",
     "status": "completed"
    },
    "tags": []
   },
   "outputs": [],
   "source": [
    "from tensorflow import keras"
   ]
  },
  {
   "cell_type": "markdown",
   "id": "f854a991",
   "metadata": {
    "papermill": {
     "duration": 0.009387,
     "end_time": "2024-01-02T15:29:16.059646",
     "exception": false,
     "start_time": "2024-01-02T15:29:16.050259",
     "status": "completed"
    },
    "tags": []
   },
   "source": [
    "I will take dataset from keras "
   ]
  },
  {
   "cell_type": "code",
   "execution_count": 4,
   "id": "04bade30",
   "metadata": {
    "execution": {
     "iopub.execute_input": "2024-01-02T15:29:16.080157Z",
     "iopub.status.busy": "2024-01-02T15:29:16.079501Z",
     "iopub.status.idle": "2024-01-02T15:29:22.994387Z",
     "shell.execute_reply": "2024-01-02T15:29:22.992915Z"
    },
    "papermill": {
     "duration": 6.928628,
     "end_time": "2024-01-02T15:29:22.997507",
     "exception": false,
     "start_time": "2024-01-02T15:29:16.068879",
     "status": "completed"
    },
    "tags": []
   },
   "outputs": [
    {
     "name": "stdout",
     "output_type": "stream",
     "text": [
      "Downloading data from https://www.cs.toronto.edu/~kriz/cifar-10-python.tar.gz\n",
      "170498071/170498071 [==============================] - 3s 0us/step\n"
     ]
    },
    {
     "data": {
      "text/plain": [
       "(50000, 32, 32, 3)"
      ]
     },
     "execution_count": 4,
     "metadata": {},
     "output_type": "execute_result"
    }
   ],
   "source": [
    "(X_train, y_train), (X_test,y_test) = datasets.cifar10.load_data()\n",
    "X_train.shape"
   ]
  },
  {
   "cell_type": "code",
   "execution_count": 5,
   "id": "cbaca9f9",
   "metadata": {
    "execution": {
     "iopub.execute_input": "2024-01-02T15:29:23.026684Z",
     "iopub.status.busy": "2024-01-02T15:29:23.026262Z",
     "iopub.status.idle": "2024-01-02T15:29:23.034427Z",
     "shell.execute_reply": "2024-01-02T15:29:23.033222Z"
    },
    "papermill": {
     "duration": 0.025599,
     "end_time": "2024-01-02T15:29:23.036732",
     "exception": false,
     "start_time": "2024-01-02T15:29:23.011133",
     "status": "completed"
    },
    "tags": []
   },
   "outputs": [
    {
     "data": {
      "text/plain": [
       "(10000, 32, 32, 3)"
      ]
     },
     "execution_count": 5,
     "metadata": {},
     "output_type": "execute_result"
    }
   ],
   "source": [
    "X_test.shape"
   ]
  },
  {
   "cell_type": "code",
   "execution_count": 6,
   "id": "b2879f81",
   "metadata": {
    "execution": {
     "iopub.execute_input": "2024-01-02T15:29:23.065639Z",
     "iopub.status.busy": "2024-01-02T15:29:23.065242Z",
     "iopub.status.idle": "2024-01-02T15:29:23.072115Z",
     "shell.execute_reply": "2024-01-02T15:29:23.070997Z"
    },
    "papermill": {
     "duration": 0.024043,
     "end_time": "2024-01-02T15:29:23.074365",
     "exception": false,
     "start_time": "2024-01-02T15:29:23.050322",
     "status": "completed"
    },
    "tags": []
   },
   "outputs": [
    {
     "data": {
      "text/plain": [
       "(32, 32, 3)"
      ]
     },
     "execution_count": 6,
     "metadata": {},
     "output_type": "execute_result"
    }
   ],
   "source": [
    "X_train[0].shape"
   ]
  },
  {
   "cell_type": "code",
   "execution_count": 7,
   "id": "3271cb34",
   "metadata": {
    "execution": {
     "iopub.execute_input": "2024-01-02T15:29:23.103048Z",
     "iopub.status.busy": "2024-01-02T15:29:23.102664Z",
     "iopub.status.idle": "2024-01-02T15:29:23.109980Z",
     "shell.execute_reply": "2024-01-02T15:29:23.108946Z"
    },
    "papermill": {
     "duration": 0.024369,
     "end_time": "2024-01-02T15:29:23.112110",
     "exception": false,
     "start_time": "2024-01-02T15:29:23.087741",
     "status": "completed"
    },
    "tags": []
   },
   "outputs": [
    {
     "data": {
      "text/plain": [
       "array([[[ 59,  62,  63],\n",
       "        [ 43,  46,  45],\n",
       "        [ 50,  48,  43],\n",
       "        ...,\n",
       "        [158, 132, 108],\n",
       "        [152, 125, 102],\n",
       "        [148, 124, 103]],\n",
       "\n",
       "       [[ 16,  20,  20],\n",
       "        [  0,   0,   0],\n",
       "        [ 18,   8,   0],\n",
       "        ...,\n",
       "        [123,  88,  55],\n",
       "        [119,  83,  50],\n",
       "        [122,  87,  57]],\n",
       "\n",
       "       [[ 25,  24,  21],\n",
       "        [ 16,   7,   0],\n",
       "        [ 49,  27,   8],\n",
       "        ...,\n",
       "        [118,  84,  50],\n",
       "        [120,  84,  50],\n",
       "        [109,  73,  42]],\n",
       "\n",
       "       ...,\n",
       "\n",
       "       [[208, 170,  96],\n",
       "        [201, 153,  34],\n",
       "        [198, 161,  26],\n",
       "        ...,\n",
       "        [160, 133,  70],\n",
       "        [ 56,  31,   7],\n",
       "        [ 53,  34,  20]],\n",
       "\n",
       "       [[180, 139,  96],\n",
       "        [173, 123,  42],\n",
       "        [186, 144,  30],\n",
       "        ...,\n",
       "        [184, 148,  94],\n",
       "        [ 97,  62,  34],\n",
       "        [ 83,  53,  34]],\n",
       "\n",
       "       [[177, 144, 116],\n",
       "        [168, 129,  94],\n",
       "        [179, 142,  87],\n",
       "        ...,\n",
       "        [216, 184, 140],\n",
       "        [151, 118,  84],\n",
       "        [123,  92,  72]]], dtype=uint8)"
      ]
     },
     "execution_count": 7,
     "metadata": {},
     "output_type": "execute_result"
    }
   ],
   "source": [
    "X_train[0]"
   ]
  },
  {
   "cell_type": "code",
   "execution_count": 8,
   "id": "7f367257",
   "metadata": {
    "execution": {
     "iopub.execute_input": "2024-01-02T15:29:23.141742Z",
     "iopub.status.busy": "2024-01-02T15:29:23.141291Z",
     "iopub.status.idle": "2024-01-02T15:29:23.358242Z",
     "shell.execute_reply": "2024-01-02T15:29:23.356973Z"
    },
    "papermill": {
     "duration": 0.234997,
     "end_time": "2024-01-02T15:29:23.360701",
     "exception": false,
     "start_time": "2024-01-02T15:29:23.125704",
     "status": "completed"
    },
    "tags": []
   },
   "outputs": [
    {
     "data": {
      "text/plain": [
       "<matplotlib.image.AxesImage at 0x7809fe957ee0>"
      ]
     },
     "execution_count": 8,
     "metadata": {},
     "output_type": "execute_result"
    },
    {
     "data": {
      "image/png": "[encoded data removed]",
      "text/plain": [
       "<Figure size 500x200 with 1 Axes>"
      ]
     },
     "metadata": {},
     "output_type": "display_data"
    }
   ],
   "source": [
    "plt.figure(figsize=(5,2))\n",
    "plt.imshow(X_train[0])"
   ]
  },
  {
   "cell_type": "markdown",
   "id": "121422db",
   "metadata": {
    "papermill": {
     "duration": 0.013858,
     "end_time": "2024-01-02T15:29:23.389379",
     "exception": false,
     "start_time": "2024-01-02T15:29:23.375521",
     "status": "completed"
    },
    "tags": []
   },
   "source": [
    "this is a frog"
   ]
  },
  {
   "cell_type": "code",
   "execution_count": 9,
   "id": "bdf4cd1f",
   "metadata": {
    "execution": {
     "iopub.execute_input": "2024-01-02T15:29:23.419248Z",
     "iopub.status.busy": "2024-01-02T15:29:23.418873Z",
     "iopub.status.idle": "2024-01-02T15:29:23.425606Z",
     "shell.execute_reply": "2024-01-02T15:29:23.424631Z"
    },
    "papermill": {
     "duration": 0.024441,
     "end_time": "2024-01-02T15:29:23.427782",
     "exception": false,
     "start_time": "2024-01-02T15:29:23.403341",
     "status": "completed"
    },
    "tags": []
   },
   "outputs": [
    {
     "data": {
      "text/plain": [
       "array([6], dtype=uint8)"
      ]
     },
     "execution_count": 9,
     "metadata": {},
     "output_type": "execute_result"
    }
   ],
   "source": [
    "y_train[0]"
   ]
  },
  {
   "cell_type": "code",
   "execution_count": 10,
   "id": "6588e464",
   "metadata": {
    "execution": {
     "iopub.execute_input": "2024-01-02T15:29:23.458498Z",
     "iopub.status.busy": "2024-01-02T15:29:23.457405Z",
     "iopub.status.idle": "2024-01-02T15:29:23.465033Z",
     "shell.execute_reply": "2024-01-02T15:29:23.463694Z"
    },
    "papermill": {
     "duration": 0.025498,
     "end_time": "2024-01-02T15:29:23.467527",
     "exception": false,
     "start_time": "2024-01-02T15:29:23.442029",
     "status": "completed"
    },
    "tags": []
   },
   "outputs": [
    {
     "data": {
      "text/plain": [
       "(50000, 1)"
      ]
     },
     "execution_count": 10,
     "metadata": {},
     "output_type": "execute_result"
    }
   ],
   "source": [
    "y_train.shape"
   ]
  },
  {
   "cell_type": "code",
   "execution_count": 11,
   "id": "8fc7c7ee",
   "metadata": {
    "execution": {
     "iopub.execute_input": "2024-01-02T15:29:23.559470Z",
     "iopub.status.busy": "2024-01-02T15:29:23.559030Z",
     "iopub.status.idle": "2024-01-02T15:29:23.565324Z",
     "shell.execute_reply": "2024-01-02T15:29:23.564519Z"
    },
    "papermill": {
     "duration": 0.023811,
     "end_time": "2024-01-02T15:29:23.567370",
     "exception": false,
     "start_time": "2024-01-02T15:29:23.543559",
     "status": "completed"
    },
    "tags": []
   },
   "outputs": [
    {
     "data": {
      "text/plain": [
       "array([[6],\n",
       "       [9],\n",
       "       [9],\n",
       "       ...,\n",
       "       [9],\n",
       "       [1],\n",
       "       [1]], dtype=uint8)"
      ]
     },
     "execution_count": 11,
     "metadata": {},
     "output_type": "execute_result"
    }
   ],
   "source": [
    "y_train"
   ]
  },
  {
   "cell_type": "code",
   "execution_count": 12,
   "id": "78be5ffc",
   "metadata": {
    "execution": {
     "iopub.execute_input": "2024-01-02T15:29:23.598458Z",
     "iopub.status.busy": "2024-01-02T15:29:23.598053Z",
     "iopub.status.idle": "2024-01-02T15:29:23.602691Z",
     "shell.execute_reply": "2024-01-02T15:29:23.601682Z"
    },
    "papermill": {
     "duration": 0.022794,
     "end_time": "2024-01-02T15:29:23.604901",
     "exception": false,
     "start_time": "2024-01-02T15:29:23.582107",
     "status": "completed"
    },
    "tags": []
   },
   "outputs": [],
   "source": [
    "y_train=y_train.reshape(-1,)"
   ]
  },
  {
   "cell_type": "code",
   "execution_count": 13,
   "id": "4aeee897",
   "metadata": {
    "execution": {
     "iopub.execute_input": "2024-01-02T15:29:23.635407Z",
     "iopub.status.busy": "2024-01-02T15:29:23.634996Z",
     "iopub.status.idle": "2024-01-02T15:29:23.641850Z",
     "shell.execute_reply": "2024-01-02T15:29:23.640708Z"
    },
    "papermill": {
     "duration": 0.024797,
     "end_time": "2024-01-02T15:29:23.644127",
     "exception": false,
     "start_time": "2024-01-02T15:29:23.619330",
     "status": "completed"
    },
    "tags": []
   },
   "outputs": [
    {
     "data": {
      "text/plain": [
       "(50000,)"
      ]
     },
     "execution_count": 13,
     "metadata": {},
     "output_type": "execute_result"
    }
   ],
   "source": [
    "y_train.shape"
   ]
  },
  {
   "cell_type": "code",
   "execution_count": 14,
   "id": "a7342a8f",
   "metadata": {
    "execution": {
     "iopub.execute_input": "2024-01-02T15:29:23.674998Z",
     "iopub.status.busy": "2024-01-02T15:29:23.674613Z",
     "iopub.status.idle": "2024-01-02T15:29:23.681228Z",
     "shell.execute_reply": "2024-01-02T15:29:23.680213Z"
    },
    "papermill": {
     "duration": 0.024437,
     "end_time": "2024-01-02T15:29:23.683425",
     "exception": false,
     "start_time": "2024-01-02T15:29:23.658988",
     "status": "completed"
    },
    "tags": []
   },
   "outputs": [
    {
     "data": {
      "text/plain": [
       "array([6, 9, 9, ..., 9, 1, 1], dtype=uint8)"
      ]
     },
     "execution_count": 14,
     "metadata": {},
     "output_type": "execute_result"
    }
   ],
   "source": [
    "y_train"
   ]
  },
  {
   "cell_type": "code",
   "execution_count": 15,
   "id": "17cf560c",
   "metadata": {
    "execution": {
     "iopub.execute_input": "2024-01-02T15:29:23.714708Z",
     "iopub.status.busy": "2024-01-02T15:29:23.714031Z",
     "iopub.status.idle": "2024-01-02T15:29:23.718659Z",
     "shell.execute_reply": "2024-01-02T15:29:23.717636Z"
    },
    "papermill": {
     "duration": 0.022706,
     "end_time": "2024-01-02T15:29:23.720861",
     "exception": false,
     "start_time": "2024-01-02T15:29:23.698155",
     "status": "completed"
    },
    "tags": []
   },
   "outputs": [],
   "source": [
    "y_test=y_test.reshape(-1,)"
   ]
  },
  {
   "cell_type": "code",
   "execution_count": 16,
   "id": "c2caca0b",
   "metadata": {
    "execution": {
     "iopub.execute_input": "2024-01-02T15:29:23.752635Z",
     "iopub.status.busy": "2024-01-02T15:29:23.752175Z",
     "iopub.status.idle": "2024-01-02T15:29:23.758757Z",
     "shell.execute_reply": "2024-01-02T15:29:23.757949Z"
    },
    "papermill": {
     "duration": 0.02482,
     "end_time": "2024-01-02T15:29:23.760754",
     "exception": false,
     "start_time": "2024-01-02T15:29:23.735934",
     "status": "completed"
    },
    "tags": []
   },
   "outputs": [
    {
     "data": {
      "text/plain": [
       "array([3, 8, 8, ..., 5, 1, 7], dtype=uint8)"
      ]
     },
     "execution_count": 16,
     "metadata": {},
     "output_type": "execute_result"
    }
   ],
   "source": [
    "y_test"
   ]
  },
  {
   "cell_type": "code",
   "execution_count": null,
   "id": "040a9ba8",
   "metadata": {
    "papermill": {
     "duration": 0.01442,
     "end_time": "2024-01-02T15:29:23.790409",
     "exception": false,
     "start_time": "2024-01-02T15:29:23.775989",
     "status": "completed"
    },
    "tags": []
   },
   "outputs": [],
   "source": []
  },
  {
   "cell_type": "code",
   "execution_count": 17,
   "id": "217f4384",
   "metadata": {
    "execution": {
     "iopub.execute_input": "2024-01-02T15:29:23.821610Z",
     "iopub.status.busy": "2024-01-02T15:29:23.821165Z",
     "iopub.status.idle": "2024-01-02T15:29:23.826291Z",
     "shell.execute_reply": "2024-01-02T15:29:23.825485Z"
    },
    "papermill": {
     "duration": 0.023271,
     "end_time": "2024-01-02T15:29:23.828291",
     "exception": false,
     "start_time": "2024-01-02T15:29:23.805020",
     "status": "completed"
    },
    "tags": []
   },
   "outputs": [],
   "source": [
    "classes={0:\"airplane\",1:\"automobile\",2:\"bird\",3:\"cat\",4:\"deer\",5:\"dog\",6:\"frog\",7:\"horse\",8:\"ship\",9:\"truck\"}"
   ]
  },
  {
   "cell_type": "code",
   "execution_count": 18,
   "id": "07facaf2",
   "metadata": {
    "execution": {
     "iopub.execute_input": "2024-01-02T15:29:23.859465Z",
     "iopub.status.busy": "2024-01-02T15:29:23.859047Z",
     "iopub.status.idle": "2024-01-02T15:29:23.864987Z",
     "shell.execute_reply": "2024-01-02T15:29:23.863999Z"
    },
    "papermill": {
     "duration": 0.024057,
     "end_time": "2024-01-02T15:29:23.867080",
     "exception": false,
     "start_time": "2024-01-02T15:29:23.843023",
     "status": "completed"
    },
    "tags": []
   },
   "outputs": [
    {
     "data": {
      "text/plain": [
       "'frog'"
      ]
     },
     "execution_count": 18,
     "metadata": {},
     "output_type": "execute_result"
    }
   ],
   "source": [
    "classes[y_train[0]]"
   ]
  },
  {
   "cell_type": "markdown",
   "id": "06c7d4f5",
   "metadata": {
    "papermill": {
     "duration": 0.014979,
     "end_time": "2024-01-02T15:29:23.897034",
     "exception": false,
     "start_time": "2024-01-02T15:29:23.882055",
     "status": "completed"
    },
    "tags": []
   },
   "source": [
    "Normalizing xtrain,xtest since for rgb channel max value is 255 so i will divide it by 255"
   ]
  },
  {
   "cell_type": "code",
   "execution_count": 19,
   "id": "ed248862",
   "metadata": {
    "execution": {
     "iopub.execute_input": "2024-01-02T15:29:23.929271Z",
     "iopub.status.busy": "2024-01-02T15:29:23.928852Z",
     "iopub.status.idle": "2024-01-02T15:29:24.664050Z",
     "shell.execute_reply": "2024-01-02T15:29:24.662997Z"
    },
    "papermill": {
     "duration": 0.75399,
     "end_time": "2024-01-02T15:29:24.666667",
     "exception": false,
     "start_time": "2024-01-02T15:29:23.912677",
     "status": "completed"
    },
    "tags": []
   },
   "outputs": [],
   "source": [
    "X_trainscaled=X_train/255\n",
    "X_testscaled=X_test/255"
   ]
  },
  {
   "cell_type": "code",
   "execution_count": 20,
   "id": "41fd3fbe",
   "metadata": {
    "execution": {
     "iopub.execute_input": "2024-01-02T15:29:24.699447Z",
     "iopub.status.busy": "2024-01-02T15:29:24.699051Z",
     "iopub.status.idle": "2024-01-02T15:29:24.703472Z",
     "shell.execute_reply": "2024-01-02T15:29:24.702442Z"
    },
    "papermill": {
     "duration": 0.023181,
     "end_time": "2024-01-02T15:29:24.705789",
     "exception": false,
     "start_time": "2024-01-02T15:29:24.682608",
     "status": "completed"
    },
    "tags": []
   },
   "outputs": [],
   "source": [
    "#X_trainscaled"
   ]
  },
  {
   "cell_type": "markdown",
   "id": "59cba272",
   "metadata": {
    "papermill": {
     "duration": 0.014837,
     "end_time": "2024-01-02T15:29:24.735726",
     "exception": false,
     "start_time": "2024-01-02T15:29:24.720889",
     "status": "completed"
    },
    "tags": []
   },
   "source": [
    "NOW I BUILD A ANN first then on second try i will do CNN"
   ]
  },
  {
   "cell_type": "code",
   "execution_count": 21,
   "id": "bd93f553",
   "metadata": {
    "execution": {
     "iopub.execute_input": "2024-01-02T15:29:24.767309Z",
     "iopub.status.busy": "2024-01-02T15:29:24.766891Z",
     "iopub.status.idle": "2024-01-02T15:32:49.569641Z",
     "shell.execute_reply": "2024-01-02T15:32:49.568213Z"
    },
    "papermill": {
     "duration": 205.008552,
     "end_time": "2024-01-02T15:32:49.759354",
     "exception": false,
     "start_time": "2024-01-02T15:29:24.750802",
     "status": "completed"
    },
    "tags": []
   },
   "outputs": [
    {
     "name": "stdout",
     "output_type": "stream",
     "text": [
      "Epoch 1/5\n",
      "1563/1563 [==============================] - 33s 21ms/step - loss: 1.8859 - accuracy: 0.3327\n",
      "Epoch 2/5\n",
      "1563/1563 [==============================] - 33s 21ms/step - loss: 1.6853 - accuracy: 0.3975\n",
      "Epoch 3/5\n",
      "1563/1563 [==============================] - 33s 21ms/step - loss: 1.6173 - accuracy: 0.4250\n",
      "Epoch 4/5\n",
      "1563/1563 [==============================] - 33s 21ms/step - loss: 1.5719 - accuracy: 0.4433\n",
      "Epoch 5/5\n",
      "1563/1563 [==============================] - 32s 20ms/step - loss: 1.5397 - accuracy: 0.4541\n"
     ]
    },
    {
     "data": {
      "text/plain": [
       "<keras.src.callbacks.History at 0x7809fe7d2380>"
      ]
     },
     "execution_count": 21,
     "metadata": {},
     "output_type": "execute_result"
    }
   ],
   "source": [
    "model=keras.Sequential([\n",
    "    layers.Flatten(input_shape=(32,32,3)),\n",
    "    keras.layers.Dense(1000,activation=\"relu\"),\n",
    "    keras.layers.Dense(10,activation=\"sigmoid\")\n",
    "])\n",
    "model.compile(optimizer=\"adam\",\n",
    "              loss=\"sparse_categorical_crossentropy\",\n",
    "              metrics=[\"accuracy\"])\n",
    "model.fit(X_trainscaled,y_train,epochs=5)"
   ]
  },
  {
   "cell_type": "code",
   "execution_count": 22,
   "id": "b48249e4",
   "metadata": {
    "execution": {
     "iopub.execute_input": "2024-01-02T15:32:50.139227Z",
     "iopub.status.busy": "2024-01-02T15:32:50.138232Z",
     "iopub.status.idle": "2024-01-02T15:32:53.227204Z",
     "shell.execute_reply": "2024-01-02T15:32:53.226065Z"
    },
    "papermill": {
     "duration": 3.283351,
     "end_time": "2024-01-02T15:32:53.229672",
     "exception": false,
     "start_time": "2024-01-02T15:32:49.946321",
     "status": "completed"
    },
    "tags": []
   },
   "outputs": [
    {
     "name": "stdout",
     "output_type": "stream",
     "text": [
      "313/313 [==============================] - 2s 6ms/step - loss: 1.5270 - accuracy: 0.4554\n"
     ]
    },
    {
     "data": {
      "text/plain": [
       "[1.5270037651062012, 0.4553999900817871]"
      ]
     },
     "execution_count": 22,
     "metadata": {},
     "output_type": "execute_result"
    }
   ],
   "source": [
    "model.evaluate(X_testscaled,y_test)"
   ]
  },
  {
   "cell_type": "code",
   "execution_count": 23,
   "id": "ca7a0d0f",
   "metadata": {
    "execution": {
     "iopub.execute_input": "2024-01-02T15:32:53.608336Z",
     "iopub.status.busy": "2024-01-02T15:32:53.607946Z",
     "iopub.status.idle": "2024-01-02T15:32:56.735157Z",
     "shell.execute_reply": "2024-01-02T15:32:56.733952Z"
    },
    "papermill": {
     "duration": 3.32063,
     "end_time": "2024-01-02T15:32:56.737400",
     "exception": false,
     "start_time": "2024-01-02T15:32:53.416770",
     "status": "completed"
    },
    "tags": []
   },
   "outputs": [
    {
     "name": "stdout",
     "output_type": "stream",
     "text": [
      "313/313 [==============================] - 2s 5ms/step\n",
      "Classification Report: \n",
      "               precision    recall  f1-score   support\n",
      "\n",
      "           0       0.51      0.51      0.51      1000\n",
      "           1       0.62      0.46      0.53      1000\n",
      "           2       0.40      0.22      0.28      1000\n",
      "           3       0.35      0.30      0.32      1000\n",
      "           4       0.43      0.29      0.35      1000\n",
      "           5       0.36      0.34      0.35      1000\n",
      "           6       0.42      0.61      0.50      1000\n",
      "           7       0.48      0.56      0.52      1000\n",
      "           8       0.48      0.69      0.57      1000\n",
      "           9       0.48      0.57      0.52      1000\n",
      "\n",
      "    accuracy                           0.46     10000\n",
      "   macro avg       0.45      0.46      0.45     10000\n",
      "weighted avg       0.45      0.46      0.45     10000\n",
      "\n"
     ]
    }
   ],
   "source": [
    "from sklearn.metrics import confusion_matrix , classification_report\n",
    "import numpy as np\n",
    "y_pred = model.predict(X_testscaled)\n",
    "y_pred_classes = [np.argmax(element) for element in y_pred]\n",
    "\n",
    "print(\"Classification Report: \\n\", classification_report(y_test, y_pred_classes))"
   ]
  },
  {
   "cell_type": "code",
   "execution_count": null,
   "id": "5f76d866",
   "metadata": {
    "papermill": {
     "duration": 0.27187,
     "end_time": "2024-01-02T15:32:57.201157",
     "exception": false,
     "start_time": "2024-01-02T15:32:56.929287",
     "status": "completed"
    },
    "tags": []
   },
   "outputs": [],
   "source": []
  },
  {
   "cell_type": "markdown",
   "id": "c112aa22",
   "metadata": {
    "papermill": {
     "duration": 0.190378,
     "end_time": "2024-01-02T15:32:57.581183",
     "exception": false,
     "start_time": "2024-01-02T15:32:57.390805",
     "status": "completed"
    },
    "tags": []
   },
   "source": [
    "we can clearly see accuracy and f1 scores are really low with ann"
   ]
  },
  {
   "cell_type": "markdown",
   "id": "4d204f03",
   "metadata": {
    "papermill": {
     "duration": 0.189806,
     "end_time": "2024-01-02T15:32:57.961173",
     "exception": false,
     "start_time": "2024-01-02T15:32:57.771367",
     "status": "completed"
    },
    "tags": []
   },
   "source": [
    "NOW USING CNN MODEL"
   ]
  },
  {
   "cell_type": "code",
   "execution_count": 24,
   "id": "23bcd681",
   "metadata": {
    "execution": {
     "iopub.execute_input": "2024-01-02T15:32:58.350118Z",
     "iopub.status.busy": "2024-01-02T15:32:58.349052Z",
     "iopub.status.idle": "2024-01-02T15:32:58.444737Z",
     "shell.execute_reply": "2024-01-02T15:32:58.443850Z"
    },
    "papermill": {
     "duration": 0.289957,
     "end_time": "2024-01-02T15:32:58.447168",
     "exception": false,
     "start_time": "2024-01-02T15:32:58.157211",
     "status": "completed"
    },
    "tags": []
   },
   "outputs": [],
   "source": [
    "model2=keras.Sequential([\n",
    "    #we do activation for conv2d to make it linear\n",
    "    keras.layers.Conv2D(filters=50, kernel_size=(3, 3),padding=\"same\",activation=\"relu\",input_shape=(32,32,3)),\n",
    "    keras.layers.MaxPooling2D((2,2)),#kernal size max pooling will take single value max of 2x2 kernal\n",
    "    \n",
    "    keras.layers.Conv2D(filters=30, kernel_size=(3, 3),padding=\"same\",activation=\"relu\"),\n",
    "    keras.layers.MaxPooling2D((2,2)),\n",
    "    \n",
    "    keras.layers.Flatten(),\n",
    "    keras.layers.Dense(1000,activation=\"relu\"),\n",
    "    keras.layers.Dense(10,activation=\"sigmoid\")\n",
    "    \n",
    "])"
   ]
  },
  {
   "cell_type": "code",
   "execution_count": 25,
   "id": "3e33de7d",
   "metadata": {
    "execution": {
     "iopub.execute_input": "2024-01-02T15:32:58.830319Z",
     "iopub.status.busy": "2024-01-02T15:32:58.829372Z",
     "iopub.status.idle": "2024-01-02T15:32:58.842218Z",
     "shell.execute_reply": "2024-01-02T15:32:58.841020Z"
    },
    "papermill": {
     "duration": 0.206897,
     "end_time": "2024-01-02T15:32:58.844852",
     "exception": false,
     "start_time": "2024-01-02T15:32:58.637955",
     "status": "completed"
    },
    "tags": []
   },
   "outputs": [],
   "source": [
    "model2.compile(optimizer=\"adam\",\n",
    "               loss=\"sparse_categorical_crossentropy\",\n",
    "               metrics=[\"accuracy\"]\n",
    ")"
   ]
  },
  {
   "cell_type": "code",
   "execution_count": 26,
   "id": "2bacb253",
   "metadata": {
    "execution": {
     "iopub.execute_input": "2024-01-02T15:32:59.229759Z",
     "iopub.status.busy": "2024-01-02T15:32:59.229327Z",
     "iopub.status.idle": "2024-01-02T15:43:18.874790Z",
     "shell.execute_reply": "2024-01-02T15:43:18.873547Z"
    },
    "papermill": {
     "duration": 619.840815,
     "end_time": "2024-01-02T15:43:18.877354",
     "exception": false,
     "start_time": "2024-01-02T15:32:59.036539",
     "status": "completed"
    },
    "tags": []
   },
   "outputs": [
    {
     "name": "stdout",
     "output_type": "stream",
     "text": [
      "Epoch 1/10\n",
      "1563/1563 [==============================] - 62s 39ms/step - loss: 1.3517 - accuracy: 0.5154\n",
      "Epoch 2/10\n",
      "1563/1563 [==============================] - 61s 39ms/step - loss: 0.9794 - accuracy: 0.6523\n",
      "Epoch 3/10\n",
      "1563/1563 [==============================] - 61s 39ms/step - loss: 0.7846 - accuracy: 0.7238\n",
      "Epoch 4/10\n",
      "1563/1563 [==============================] - 61s 39ms/step - loss: 0.6116 - accuracy: 0.7869\n",
      "Epoch 5/10\n",
      "1563/1563 [==============================] - 60s 39ms/step - loss: 0.4524 - accuracy: 0.8447\n",
      "Epoch 6/10\n",
      "1563/1563 [==============================] - 62s 40ms/step - loss: 0.3058 - accuracy: 0.8947\n",
      "Epoch 7/10\n",
      "1563/1563 [==============================] - 65s 42ms/step - loss: 0.1985 - accuracy: 0.9341\n",
      "Epoch 8/10\n",
      "1563/1563 [==============================] - 61s 39ms/step - loss: 0.1393 - accuracy: 0.9535\n",
      "Epoch 9/10\n",
      "1563/1563 [==============================] - 61s 39ms/step - loss: 0.1138 - accuracy: 0.9608\n",
      "Epoch 10/10\n",
      "1563/1563 [==============================] - 62s 40ms/step - loss: 0.1027 - accuracy: 0.9656\n"
     ]
    },
    {
     "data": {
      "text/plain": [
       "<keras.src.callbacks.History at 0x780978a49bd0>"
      ]
     },
     "execution_count": 26,
     "metadata": {},
     "output_type": "execute_result"
    }
   ],
   "source": [
    "model2.fit(X_trainscaled,y_train,epochs=10)"
   ]
  },
  {
   "cell_type": "code",
   "execution_count": 27,
   "id": "6e9196df",
   "metadata": {
    "execution": {
     "iopub.execute_input": "2024-01-02T15:43:20.399506Z",
     "iopub.status.busy": "2024-01-02T15:43:20.398269Z",
     "iopub.status.idle": "2024-01-02T15:43:24.263549Z",
     "shell.execute_reply": "2024-01-02T15:43:24.262303Z"
    },
    "papermill": {
     "duration": 4.664933,
     "end_time": "2024-01-02T15:43:24.265934",
     "exception": false,
     "start_time": "2024-01-02T15:43:19.601001",
     "status": "completed"
    },
    "tags": []
   },
   "outputs": [
    {
     "name": "stdout",
     "output_type": "stream",
     "text": [
      "313/313 [==============================] - 3s 11ms/step - loss: 1.7795 - accuracy: 0.6923\n"
     ]
    },
    {
     "data": {
      "text/plain": [
       "[1.7794709205627441, 0.692300021648407]"
      ]
     },
     "execution_count": 27,
     "metadata": {},
     "output_type": "execute_result"
    }
   ],
   "source": [
    "model2.evaluate(X_testscaled,y_test)"
   ]
  },
  {
   "cell_type": "markdown",
   "id": "a45a5d96",
   "metadata": {
    "papermill": {
     "duration": 0.809484,
     "end_time": "2024-01-02T15:43:25.830816",
     "exception": false,
     "start_time": "2024-01-02T15:43:25.021332",
     "status": "completed"
    },
    "tags": []
   },
   "source": [
    "we can see we get a good accuracy now from 44 in ANN to 70 in CNN"
   ]
  },
  {
   "cell_type": "code",
   "execution_count": 28,
   "id": "71196585",
   "metadata": {
    "execution": {
     "iopub.execute_input": "2024-01-02T15:43:27.296609Z",
     "iopub.status.busy": "2024-01-02T15:43:27.296206Z",
     "iopub.status.idle": "2024-01-02T15:43:31.203495Z",
     "shell.execute_reply": "2024-01-02T15:43:31.202054Z"
    },
    "papermill": {
     "duration": 4.65221,
     "end_time": "2024-01-02T15:43:31.206124",
     "exception": false,
     "start_time": "2024-01-02T15:43:26.553914",
     "status": "completed"
    },
    "tags": []
   },
   "outputs": [
    {
     "name": "stdout",
     "output_type": "stream",
     "text": [
      "313/313 [==============================] - 3s 11ms/step\n",
      "Classification Report: \n",
      "               precision    recall  f1-score   support\n",
      "\n",
      "           0       0.67      0.77      0.71      1000\n",
      "           1       0.72      0.87      0.79      1000\n",
      "           2       0.62      0.57      0.60      1000\n",
      "           3       0.47      0.52      0.49      1000\n",
      "           4       0.65      0.64      0.64      1000\n",
      "           5       0.66      0.52      0.58      1000\n",
      "           6       0.72      0.79      0.75      1000\n",
      "           7       0.79      0.72      0.76      1000\n",
      "           8       0.83      0.79      0.81      1000\n",
      "           9       0.79      0.70      0.74      1000\n",
      "\n",
      "    accuracy                           0.69     10000\n",
      "   macro avg       0.69      0.69      0.69     10000\n",
      "weighted avg       0.69      0.69      0.69     10000\n",
      "\n"
     ]
    }
   ],
   "source": [
    "from sklearn.metrics import confusion_matrix , classification_report\n",
    "import numpy as np\n",
    "y_pred = model2.predict(X_testscaled)\n",
    "y_pred_classes = [np.argmax(element) for element in y_pred]\n",
    "\n",
    "print(\"Classification Report: \\n\", classification_report(y_test, y_pred_classes))"
   ]
  },
  {
   "cell_type": "code",
   "execution_count": 29,
   "id": "d710b431",
   "metadata": {
    "execution": {
     "iopub.execute_input": "2024-01-02T15:43:32.720619Z",
     "iopub.status.busy": "2024-01-02T15:43:32.719741Z",
     "iopub.status.idle": "2024-01-02T15:43:36.507884Z",
     "shell.execute_reply": "2024-01-02T15:43:36.506694Z"
    },
    "papermill": {
     "duration": 4.508813,
     "end_time": "2024-01-02T15:43:36.510344",
     "exception": false,
     "start_time": "2024-01-02T15:43:32.001531",
     "status": "completed"
    },
    "tags": []
   },
   "outputs": [
    {
     "name": "stdout",
     "output_type": "stream",
     "text": [
      "313/313 [==============================] - 3s 11ms/step\n"
     ]
    }
   ],
   "source": [
    "y_pred=model2.predict(X_testscaled)"
   ]
  },
  {
   "cell_type": "code",
   "execution_count": 30,
   "id": "0f82042c",
   "metadata": {
    "execution": {
     "iopub.execute_input": "2024-01-02T15:43:38.054618Z",
     "iopub.status.busy": "2024-01-02T15:43:38.053716Z",
     "iopub.status.idle": "2024-01-02T15:43:38.060213Z",
     "shell.execute_reply": "2024-01-02T15:43:38.059491Z"
    },
    "papermill": {
     "duration": 0.735936,
     "end_time": "2024-01-02T15:43:38.062314",
     "exception": false,
     "start_time": "2024-01-02T15:43:37.326378",
     "status": "completed"
    },
    "tags": []
   },
   "outputs": [
    {
     "data": {
      "text/plain": [
       "array([[1.5054658e-02, 1.4391403e-02, 1.2678166e-05, ..., 5.1467860e-04,\n",
       "        1.4510128e-03, 6.7859457e-04],\n",
       "       [9.9940836e-01, 9.9999988e-01, 1.7811178e-04, ..., 2.3480886e-11,\n",
       "        9.9996310e-01, 7.6658078e-02],\n",
       "       [9.9965930e-01, 3.7678955e-03, 8.5695165e-06, ..., 9.7810866e-05,\n",
       "        9.9981695e-01, 1.6102919e-01],\n",
       "       ...,\n",
       "       [1.0352614e-04, 2.9628756e-12, 9.9942458e-01, ..., 5.4572639e-04,\n",
       "        1.4755509e-13, 2.5370082e-07],\n",
       "       [1.5240612e-02, 9.9997526e-01, 2.6705671e-02, ..., 3.1038565e-03,\n",
       "        9.2201503e-08, 1.0452132e-02],\n",
       "       [3.8380773e-07, 3.8956256e-05, 3.5663139e-02, ..., 1.0000000e+00,\n",
       "        1.6536993e-07, 1.0596006e-05]], dtype=float32)"
      ]
     },
     "execution_count": 30,
     "metadata": {},
     "output_type": "execute_result"
    }
   ],
   "source": [
    "y_pred"
   ]
  },
  {
   "cell_type": "code",
   "execution_count": 31,
   "id": "56e96420",
   "metadata": {
    "execution": {
     "iopub.execute_input": "2024-01-02T15:43:39.573418Z",
     "iopub.status.busy": "2024-01-02T15:43:39.572386Z",
     "iopub.status.idle": "2024-01-02T15:43:39.578878Z",
     "shell.execute_reply": "2024-01-02T15:43:39.577700Z"
    },
    "papermill": {
     "duration": 0.727795,
     "end_time": "2024-01-02T15:43:39.580770",
     "exception": false,
     "start_time": "2024-01-02T15:43:38.852975",
     "status": "completed"
    },
    "tags": []
   },
   "outputs": [
    {
     "data": {
      "text/plain": [
       "3"
      ]
     },
     "execution_count": 31,
     "metadata": {},
     "output_type": "execute_result"
    }
   ],
   "source": [
    "np.argmax(y_pred[0])"
   ]
  },
  {
   "cell_type": "code",
   "execution_count": 32,
   "id": "cf8d9611",
   "metadata": {
    "execution": {
     "iopub.execute_input": "2024-01-02T15:43:41.099771Z",
     "iopub.status.busy": "2024-01-02T15:43:41.099332Z",
     "iopub.status.idle": "2024-01-02T15:43:41.131862Z",
     "shell.execute_reply": "2024-01-02T15:43:41.130814Z"
    },
    "papermill": {
     "duration": 0.758553,
     "end_time": "2024-01-02T15:43:41.134493",
     "exception": false,
     "start_time": "2024-01-02T15:43:40.375940",
     "status": "completed"
    },
    "tags": []
   },
   "outputs": [],
   "source": [
    "y_classes = [np.argmax(element) for element in y_pred]"
   ]
  },
  {
   "cell_type": "code",
   "execution_count": 33,
   "id": "70e463cc",
   "metadata": {
    "execution": {
     "iopub.execute_input": "2024-01-02T15:43:42.669207Z",
     "iopub.status.busy": "2024-01-02T15:43:42.668218Z",
     "iopub.status.idle": "2024-01-02T15:43:42.674762Z",
     "shell.execute_reply": "2024-01-02T15:43:42.673914Z"
    },
    "papermill": {
     "duration": 0.822915,
     "end_time": "2024-01-02T15:43:42.676648",
     "exception": false,
     "start_time": "2024-01-02T15:43:41.853733",
     "status": "completed"
    },
    "tags": []
   },
   "outputs": [
    {
     "data": {
      "text/plain": [
       "[3, 1, 8, 8, 6, 6, 1, 6, 3, 1]"
      ]
     },
     "execution_count": 33,
     "metadata": {},
     "output_type": "execute_result"
    }
   ],
   "source": [
    "y_classes[:10]"
   ]
  },
  {
   "cell_type": "code",
   "execution_count": 34,
   "id": "312586f7",
   "metadata": {
    "execution": {
     "iopub.execute_input": "2024-01-02T15:43:44.181668Z",
     "iopub.status.busy": "2024-01-02T15:43:44.181000Z",
     "iopub.status.idle": "2024-01-02T15:43:44.187388Z",
     "shell.execute_reply": "2024-01-02T15:43:44.186578Z"
    },
    "papermill": {
     "duration": 0.80279,
     "end_time": "2024-01-02T15:43:44.189468",
     "exception": false,
     "start_time": "2024-01-02T15:43:43.386678",
     "status": "completed"
    },
    "tags": []
   },
   "outputs": [
    {
     "data": {
      "text/plain": [
       "array([3, 8, 8, 0, 6, 6, 1, 6, 3, 1], dtype=uint8)"
      ]
     },
     "execution_count": 34,
     "metadata": {},
     "output_type": "execute_result"
    }
   ],
   "source": [
    "y_test[:10]"
   ]
  },
  {
   "cell_type": "markdown",
   "id": "208ef12f",
   "metadata": {
    "papermill": {
     "duration": 0.719691,
     "end_time": "2024-01-02T15:43:45.631621",
     "exception": false,
     "start_time": "2024-01-02T15:43:44.911930",
     "status": "completed"
    },
    "tags": []
   },
   "source": [
    "almost same prediction only 3 wrong in first 10"
   ]
  },
  {
   "cell_type": "code",
   "execution_count": 35,
   "id": "ab794a48",
   "metadata": {
    "execution": {
     "iopub.execute_input": "2024-01-02T15:43:47.151589Z",
     "iopub.status.busy": "2024-01-02T15:43:47.150511Z",
     "iopub.status.idle": "2024-01-02T15:43:47.349886Z",
     "shell.execute_reply": "2024-01-02T15:43:47.348684Z"
    },
    "papermill": {
     "duration": 0.93281,
     "end_time": "2024-01-02T15:43:47.352278",
     "exception": false,
     "start_time": "2024-01-02T15:43:46.419468",
     "status": "completed"
    },
    "tags": []
   },
   "outputs": [
    {
     "data": {
      "text/plain": [
       "<matplotlib.image.AxesImage at 0x7809808e8c10>"
      ]
     },
     "execution_count": 35,
     "metadata": {},
     "output_type": "execute_result"
    },
    {
     "data": {
      "image/png": "[encoded data removed]",
      "text/plain": [
       "<Figure size 1500x200 with 1 Axes>"
      ]
     },
     "metadata": {},
     "output_type": "display_data"
    }
   ],
   "source": [
    "plt.figure(figsize=(15,2))\n",
    "plt.imshow(X_test[3])"
   ]
  },
  {
   "cell_type": "code",
   "execution_count": 36,
   "id": "4e4574e0",
   "metadata": {
    "execution": {
     "iopub.execute_input": "2024-01-02T15:43:48.892501Z",
     "iopub.status.busy": "2024-01-02T15:43:48.892082Z",
     "iopub.status.idle": "2024-01-02T15:43:48.898224Z",
     "shell.execute_reply": "2024-01-02T15:43:48.897288Z"
    },
    "papermill": {
     "duration": 0.731204,
     "end_time": "2024-01-02T15:43:48.900217",
     "exception": false,
     "start_time": "2024-01-02T15:43:48.169013",
     "status": "completed"
    },
    "tags": []
   },
   "outputs": [
    {
     "data": {
      "text/plain": [
       "'ship'"
      ]
     },
     "execution_count": 36,
     "metadata": {},
     "output_type": "execute_result"
    }
   ],
   "source": [
    "classes[y_classes[3]]"
   ]
  }
 ],
 "metadata": {
  "kaggle": {
   "accelerator": "none",
   "dataSources": [],
   "dockerImageVersionId": 30626,
   "isGpuEnabled": false,
   "isInternetEnabled": true,
   "language": "python",
   "sourceType": "notebook"
  },
  "kernelspec": {
   "display_name": "Python 3",
   "language": "python",
   "name": "python3"
  },
  "language_info": {
   "codemirror_mode": {
    "name": "ipython",
    "version": 3
   },
   "file_extension": ".py",
   "mimetype": "text/x-python",
   "name": "python",
   "nbconvert_exporter": "python",
   "pygments_lexer": "ipython3",
   "version": "3.10.12"
  },
  "papermill": {
   "default_parameters": {},
   "duration": 893.073578,
   "end_time": "2024-01-02T15:43:51.348972",
   "environment_variables": {},
   "exception": null,
   "input_path": "__notebook__.ipynb",
   "output_path": "__notebook__.ipynb",
   "parameters": {},
   "start_time": "2024-01-02T15:28:58.275394",
   "version": "2.4.0"
  }
 },
 "nbformat": 4,
 "nbformat_minor": 5
}
